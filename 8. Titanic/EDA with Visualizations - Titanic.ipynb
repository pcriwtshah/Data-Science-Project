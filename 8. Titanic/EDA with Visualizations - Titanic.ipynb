{
 "cells": [
  {
   "cell_type": "markdown",
   "id": "092c45ba",
   "metadata": {},
   "source": [
    "# Introduction\n",
    "\n",
    "Today, I will use titanic dataset to do exploratory data analysis along with visualizations. In this project, I will explore each variables in the dataset to understand the data and create the following charts using seaborn:\n",
    "* Barplot\n",
    "* Piechart\n",
    "* Histograms\n",
    "* Boxplot"
   ]
  },
  {
   "cell_type": "markdown",
   "id": "5a19c6bb",
   "metadata": {},
   "source": [
    "## Import necessary libraries"
   ]
  },
  {
   "cell_type": "code",
   "execution_count": 1,
   "id": "36a257f9",
   "metadata": {},
   "outputs": [],
   "source": [
    "import pandas as pd\n",
    "import matplotlib.pyplot as plt\n",
    "import seaborn as sns\n",
    "sns.set_theme(style=\"darkgrid\")"
   ]
  },
  {
   "cell_type": "code",
   "execution_count": 2,
   "id": "ad8f968c",
   "metadata": {},
   "outputs": [],
   "source": [
    "#Load the data\n",
    "t_data = pd.read_csv('titanic.csv')"
   ]
  },
  {
   "cell_type": "markdown",
   "id": "87b33a38",
   "metadata": {},
   "source": [
    "## Understand the data"
   ]
  },
  {
   "cell_type": "code",
   "execution_count": 3,
   "id": "239237ad",
   "metadata": {},
   "outputs": [
    {
     "data": {
      "text/html": [
       "<div>\n",
       "<style scoped>\n",
       "    .dataframe tbody tr th:only-of-type {\n",
       "        vertical-align: middle;\n",
       "    }\n",
       "\n",
       "    .dataframe tbody tr th {\n",
       "        vertical-align: top;\n",
       "    }\n",
       "\n",
       "    .dataframe thead th {\n",
       "        text-align: right;\n",
       "    }\n",
       "</style>\n",
       "<table border=\"1\" class=\"dataframe\">\n",
       "  <thead>\n",
       "    <tr style=\"text-align: right;\">\n",
       "      <th></th>\n",
       "      <th>Survived</th>\n",
       "      <th>Pclass</th>\n",
       "      <th>Name</th>\n",
       "      <th>Sex</th>\n",
       "      <th>Age</th>\n",
       "      <th>Siblings/Spouses Aboard</th>\n",
       "      <th>Parents/Children Aboard</th>\n",
       "      <th>Fare</th>\n",
       "    </tr>\n",
       "  </thead>\n",
       "  <tbody>\n",
       "    <tr>\n",
       "      <th>0</th>\n",
       "      <td>0</td>\n",
       "      <td>3</td>\n",
       "      <td>Mr. Owen Harris Braund</td>\n",
       "      <td>male</td>\n",
       "      <td>22.0</td>\n",
       "      <td>1</td>\n",
       "      <td>0</td>\n",
       "      <td>7.2500</td>\n",
       "    </tr>\n",
       "    <tr>\n",
       "      <th>1</th>\n",
       "      <td>1</td>\n",
       "      <td>1</td>\n",
       "      <td>Mrs. John Bradley (Florence Briggs Thayer) Cum...</td>\n",
       "      <td>female</td>\n",
       "      <td>38.0</td>\n",
       "      <td>1</td>\n",
       "      <td>0</td>\n",
       "      <td>71.2833</td>\n",
       "    </tr>\n",
       "    <tr>\n",
       "      <th>2</th>\n",
       "      <td>1</td>\n",
       "      <td>3</td>\n",
       "      <td>Miss. Laina Heikkinen</td>\n",
       "      <td>female</td>\n",
       "      <td>26.0</td>\n",
       "      <td>0</td>\n",
       "      <td>0</td>\n",
       "      <td>7.9250</td>\n",
       "    </tr>\n",
       "    <tr>\n",
       "      <th>3</th>\n",
       "      <td>1</td>\n",
       "      <td>1</td>\n",
       "      <td>Mrs. Jacques Heath (Lily May Peel) Futrelle</td>\n",
       "      <td>female</td>\n",
       "      <td>35.0</td>\n",
       "      <td>1</td>\n",
       "      <td>0</td>\n",
       "      <td>53.1000</td>\n",
       "    </tr>\n",
       "    <tr>\n",
       "      <th>4</th>\n",
       "      <td>0</td>\n",
       "      <td>3</td>\n",
       "      <td>Mr. William Henry Allen</td>\n",
       "      <td>male</td>\n",
       "      <td>35.0</td>\n",
       "      <td>0</td>\n",
       "      <td>0</td>\n",
       "      <td>8.0500</td>\n",
       "    </tr>\n",
       "  </tbody>\n",
       "</table>\n",
       "</div>"
      ],
      "text/plain": [
       "   Survived  Pclass                                               Name  \\\n",
       "0         0       3                             Mr. Owen Harris Braund   \n",
       "1         1       1  Mrs. John Bradley (Florence Briggs Thayer) Cum...   \n",
       "2         1       3                              Miss. Laina Heikkinen   \n",
       "3         1       1        Mrs. Jacques Heath (Lily May Peel) Futrelle   \n",
       "4         0       3                            Mr. William Henry Allen   \n",
       "\n",
       "      Sex   Age  Siblings/Spouses Aboard  Parents/Children Aboard     Fare  \n",
       "0    male  22.0                        1                        0   7.2500  \n",
       "1  female  38.0                        1                        0  71.2833  \n",
       "2  female  26.0                        0                        0   7.9250  \n",
       "3  female  35.0                        1                        0  53.1000  \n",
       "4    male  35.0                        0                        0   8.0500  "
      ]
     },
     "execution_count": 3,
     "metadata": {},
     "output_type": "execute_result"
    }
   ],
   "source": [
    "#See the first five rows to understand the data\n",
    "t_data.head()"
   ]
  },
  {
   "cell_type": "code",
   "execution_count": 4,
   "id": "4c1a1bcd",
   "metadata": {},
   "outputs": [
    {
     "data": {
      "text/plain": [
       "Index(['Survived', 'Pclass', 'Name', 'Sex', 'Age', 'Siblings/Spouses Aboard',\n",
       "       'Parents/Children Aboard', 'Fare'],\n",
       "      dtype='object')"
      ]
     },
     "execution_count": 4,
     "metadata": {},
     "output_type": "execute_result"
    }
   ],
   "source": [
    "t_data.columns"
   ]
  },
  {
   "cell_type": "code",
   "execution_count": 5,
   "id": "729cae8c",
   "metadata": {},
   "outputs": [
    {
     "data": {
      "text/plain": [
       "(887, 8)"
      ]
     },
     "execution_count": 5,
     "metadata": {},
     "output_type": "execute_result"
    }
   ],
   "source": [
    "t_data.shape"
   ]
  },
  {
   "cell_type": "code",
   "execution_count": 6,
   "id": "716ba54c",
   "metadata": {},
   "outputs": [
    {
     "data": {
      "text/plain": [
       "7096"
      ]
     },
     "execution_count": 6,
     "metadata": {},
     "output_type": "execute_result"
    }
   ],
   "source": [
    "t_data.size"
   ]
  },
  {
   "cell_type": "code",
   "execution_count": 7,
   "id": "6455e7b3",
   "metadata": {},
   "outputs": [
    {
     "data": {
      "text/plain": [
       "Survived                     int64\n",
       "Pclass                       int64\n",
       "Name                        object\n",
       "Sex                         object\n",
       "Age                        float64\n",
       "Siblings/Spouses Aboard      int64\n",
       "Parents/Children Aboard      int64\n",
       "Fare                       float64\n",
       "dtype: object"
      ]
     },
     "execution_count": 7,
     "metadata": {},
     "output_type": "execute_result"
    }
   ],
   "source": [
    "t_data.dtypes"
   ]
  },
  {
   "cell_type": "markdown",
   "id": "8c98257a",
   "metadata": {},
   "source": [
    "### Check the unique values in each column"
   ]
  },
  {
   "cell_type": "code",
   "execution_count": 8,
   "id": "8ddeb91c",
   "metadata": {},
   "outputs": [
    {
     "data": {
      "text/plain": [
       "array([0, 1])"
      ]
     },
     "execution_count": 8,
     "metadata": {},
     "output_type": "execute_result"
    }
   ],
   "source": [
    "t_data['Survived'].unique()"
   ]
  },
  {
   "cell_type": "code",
   "execution_count": 9,
   "id": "59b4d49f",
   "metadata": {},
   "outputs": [
    {
     "data": {
      "text/plain": [
       "array([3, 1, 2])"
      ]
     },
     "execution_count": 9,
     "metadata": {},
     "output_type": "execute_result"
    }
   ],
   "source": [
    "t_data['Pclass'].unique()"
   ]
  },
  {
   "cell_type": "code",
   "execution_count": 10,
   "id": "9d64bb00",
   "metadata": {},
   "outputs": [
    {
     "data": {
      "text/plain": [
       "array(['male', 'female'], dtype=object)"
      ]
     },
     "execution_count": 10,
     "metadata": {},
     "output_type": "execute_result"
    }
   ],
   "source": [
    "t_data['Sex'].unique()"
   ]
  },
  {
   "cell_type": "code",
   "execution_count": 11,
   "id": "7ab51289",
   "metadata": {},
   "outputs": [
    {
     "data": {
      "text/plain": [
       "array([1, 0, 3, 4, 2, 5, 8])"
      ]
     },
     "execution_count": 11,
     "metadata": {},
     "output_type": "execute_result"
    }
   ],
   "source": [
    "t_data['Siblings/Spouses Aboard'].unique()"
   ]
  },
  {
   "cell_type": "code",
   "execution_count": 12,
   "id": "9a1ffa17",
   "metadata": {},
   "outputs": [
    {
     "data": {
      "text/plain": [
       "array([0, 1, 2, 5, 3, 4, 6])"
      ]
     },
     "execution_count": 12,
     "metadata": {},
     "output_type": "execute_result"
    }
   ],
   "source": [
    "t_data['Parents/Children Aboard'].unique()"
   ]
  },
  {
   "cell_type": "markdown",
   "id": "029d4bf2",
   "metadata": {},
   "source": [
    "### Description about dataset\n",
    "There are 8 columns (or variables) and 887 rows (or individual). The variables can be classified into\n",
    "\n",
    "* Categorical:\n",
    "        * Survived\n",
    "        * Pclass\n",
    "        * Name\n",
    "        * Sex\n",
    "        \n",
    "* Quantitative: \n",
    "        * Age\n",
    "        * Siblings/Spouses Aboard\n",
    "        * Parents/Children Aboard\n",
    "        * Fare\n",
    "        \n",
    "**Survived:** This variable is defined as whether an individual survived or not. It contains the following values:\n",
    "* 0 means No\n",
    "* 1 means Yes\n",
    "\n",
    "**Pclass:** This variable is defined as ticket class. It contains the following values:\n",
    "* 1 means 1st class\n",
    "* 2 means 2nd class\n",
    "* 3 means 3rd class\n",
    "\n",
    "**Name:** This variable is defined the name of an individual. There are 887 individuals.\n",
    "\n",
    "**Sex:** This variable defines the sex of an individual. It contains the following values:\n",
    "* male\n",
    "* female\n",
    "\n",
    "**Age:** This variable contains the age of an individual in years.\n",
    "\n",
    "**Siblings/Spouses Aboard:** Number of siblings/Spouses aboard in the Titanic. Values ranges from 0 to 8.\n",
    "\n",
    "**Parents/Children Aboard:** Number of parents/children aboard int the Titanic. Values ranges from 0 to 6.\n",
    "\n",
    "**Fare:** Ticket Fare"
   ]
  },
  {
   "cell_type": "markdown",
   "id": "230a6ebc",
   "metadata": {},
   "source": [
    "## Data Cleansing"
   ]
  },
  {
   "cell_type": "code",
   "execution_count": 13,
   "id": "691f1dfd",
   "metadata": {},
   "outputs": [
    {
     "data": {
      "text/plain": [
       "Survived                   0\n",
       "Pclass                     0\n",
       "Name                       0\n",
       "Sex                        0\n",
       "Age                        0\n",
       "Siblings/Spouses Aboard    0\n",
       "Parents/Children Aboard    0\n",
       "Fare                       0\n",
       "dtype: int64"
      ]
     },
     "execution_count": 13,
     "metadata": {},
     "output_type": "execute_result"
    }
   ],
   "source": [
    "#Check if there are any missing values\n",
    "t_data.isnull().sum()"
   ]
  },
  {
   "cell_type": "code",
   "execution_count": 14,
   "id": "cf873a19",
   "metadata": {},
   "outputs": [
    {
     "data": {
      "text/plain": [
       "False"
      ]
     },
     "execution_count": 14,
     "metadata": {},
     "output_type": "execute_result"
    }
   ],
   "source": [
    "#Check if there are any duplicates\n",
    "t_data.duplicated().any()"
   ]
  },
  {
   "cell_type": "code",
   "execution_count": 15,
   "id": "b6a59385",
   "metadata": {},
   "outputs": [],
   "source": [
    "#Change the name of a column\n",
    "t_data.rename(columns = {\"Siblings/Spouses Aboard\":\"Sib_Sp\", \"Parents/Children Aboard\":\"Pa_Child\"}, inplace=True)\n"
   ]
  },
  {
   "cell_type": "markdown",
   "id": "51102618",
   "metadata": {},
   "source": [
    "Since there are no missing values or duplicated values, Let's do EDA."
   ]
  },
  {
   "cell_type": "code",
   "execution_count": 16,
   "id": "0365f991",
   "metadata": {},
   "outputs": [
    {
     "data": {
      "text/plain": [
       "array(['Survived', 'Pclass', 'Name', 'Sex', 'Age', 'Sib_Sp', 'Pa_Child',\n",
       "       'Fare'], dtype=object)"
      ]
     },
     "execution_count": 16,
     "metadata": {},
     "output_type": "execute_result"
    }
   ],
   "source": [
    "#Check if the column name changed\n",
    "t_data.columns.values"
   ]
  },
  {
   "cell_type": "markdown",
   "id": "8040487a",
   "metadata": {},
   "source": [
    "## Exploratory Data Analysis"
   ]
  },
  {
   "cell_type": "code",
   "execution_count": 17,
   "id": "036d452b",
   "metadata": {},
   "outputs": [
    {
     "data": {
      "text/html": [
       "<div>\n",
       "<style scoped>\n",
       "    .dataframe tbody tr th:only-of-type {\n",
       "        vertical-align: middle;\n",
       "    }\n",
       "\n",
       "    .dataframe tbody tr th {\n",
       "        vertical-align: top;\n",
       "    }\n",
       "\n",
       "    .dataframe thead th {\n",
       "        text-align: right;\n",
       "    }\n",
       "</style>\n",
       "<table border=\"1\" class=\"dataframe\">\n",
       "  <thead>\n",
       "    <tr style=\"text-align: right;\">\n",
       "      <th></th>\n",
       "      <th>Survived</th>\n",
       "      <th>Pclass</th>\n",
       "      <th>Age</th>\n",
       "      <th>Sib_Sp</th>\n",
       "      <th>Pa_Child</th>\n",
       "      <th>Fare</th>\n",
       "    </tr>\n",
       "  </thead>\n",
       "  <tbody>\n",
       "    <tr>\n",
       "      <th>count</th>\n",
       "      <td>887.000000</td>\n",
       "      <td>887.000000</td>\n",
       "      <td>887.000000</td>\n",
       "      <td>887.000000</td>\n",
       "      <td>887.000000</td>\n",
       "      <td>887.00000</td>\n",
       "    </tr>\n",
       "    <tr>\n",
       "      <th>mean</th>\n",
       "      <td>0.385569</td>\n",
       "      <td>2.305524</td>\n",
       "      <td>29.471443</td>\n",
       "      <td>0.525366</td>\n",
       "      <td>0.383315</td>\n",
       "      <td>32.30542</td>\n",
       "    </tr>\n",
       "    <tr>\n",
       "      <th>std</th>\n",
       "      <td>0.487004</td>\n",
       "      <td>0.836662</td>\n",
       "      <td>14.121908</td>\n",
       "      <td>1.104669</td>\n",
       "      <td>0.807466</td>\n",
       "      <td>49.78204</td>\n",
       "    </tr>\n",
       "    <tr>\n",
       "      <th>min</th>\n",
       "      <td>0.000000</td>\n",
       "      <td>1.000000</td>\n",
       "      <td>0.420000</td>\n",
       "      <td>0.000000</td>\n",
       "      <td>0.000000</td>\n",
       "      <td>0.00000</td>\n",
       "    </tr>\n",
       "    <tr>\n",
       "      <th>25%</th>\n",
       "      <td>0.000000</td>\n",
       "      <td>2.000000</td>\n",
       "      <td>20.250000</td>\n",
       "      <td>0.000000</td>\n",
       "      <td>0.000000</td>\n",
       "      <td>7.92500</td>\n",
       "    </tr>\n",
       "    <tr>\n",
       "      <th>50%</th>\n",
       "      <td>0.000000</td>\n",
       "      <td>3.000000</td>\n",
       "      <td>28.000000</td>\n",
       "      <td>0.000000</td>\n",
       "      <td>0.000000</td>\n",
       "      <td>14.45420</td>\n",
       "    </tr>\n",
       "    <tr>\n",
       "      <th>75%</th>\n",
       "      <td>1.000000</td>\n",
       "      <td>3.000000</td>\n",
       "      <td>38.000000</td>\n",
       "      <td>1.000000</td>\n",
       "      <td>0.000000</td>\n",
       "      <td>31.13750</td>\n",
       "    </tr>\n",
       "    <tr>\n",
       "      <th>max</th>\n",
       "      <td>1.000000</td>\n",
       "      <td>3.000000</td>\n",
       "      <td>80.000000</td>\n",
       "      <td>8.000000</td>\n",
       "      <td>6.000000</td>\n",
       "      <td>512.32920</td>\n",
       "    </tr>\n",
       "  </tbody>\n",
       "</table>\n",
       "</div>"
      ],
      "text/plain": [
       "         Survived      Pclass         Age      Sib_Sp    Pa_Child       Fare\n",
       "count  887.000000  887.000000  887.000000  887.000000  887.000000  887.00000\n",
       "mean     0.385569    2.305524   29.471443    0.525366    0.383315   32.30542\n",
       "std      0.487004    0.836662   14.121908    1.104669    0.807466   49.78204\n",
       "min      0.000000    1.000000    0.420000    0.000000    0.000000    0.00000\n",
       "25%      0.000000    2.000000   20.250000    0.000000    0.000000    7.92500\n",
       "50%      0.000000    3.000000   28.000000    0.000000    0.000000   14.45420\n",
       "75%      1.000000    3.000000   38.000000    1.000000    0.000000   31.13750\n",
       "max      1.000000    3.000000   80.000000    8.000000    6.000000  512.32920"
      ]
     },
     "execution_count": 17,
     "metadata": {},
     "output_type": "execute_result"
    }
   ],
   "source": [
    "t_data.describe()"
   ]
  },
  {
   "cell_type": "code",
   "execution_count": 18,
   "id": "9af09eca",
   "metadata": {},
   "outputs": [
    {
     "data": {
      "text/plain": [
       "342"
      ]
     },
     "execution_count": 18,
     "metadata": {},
     "output_type": "execute_result"
    }
   ],
   "source": [
    "t_data[\"Survived\"].values.sum()"
   ]
  },
  {
   "cell_type": "code",
   "execution_count": 19,
   "id": "efba8f1a",
   "metadata": {},
   "outputs": [],
   "source": [
    "#t_data[\"Sex\"].values.sum()"
   ]
  },
  {
   "cell_type": "code",
   "execution_count": 27,
   "id": "f29aaed9",
   "metadata": {},
   "outputs": [
    {
     "data": {
      "text/plain": [
       "Survived     string\n",
       "Pclass        int64\n",
       "Name         object\n",
       "Sex          object\n",
       "Age         float64\n",
       "Sib_Sp        int64\n",
       "Pa_Child      int64\n",
       "Fare        float64\n",
       "dtype: object"
      ]
     },
     "execution_count": 27,
     "metadata": {},
     "output_type": "execute_result"
    }
   ],
   "source": [
    "t_data.astype({'Survived': 'string'}).dtypes"
   ]
  },
  {
   "cell_type": "code",
   "execution_count": 28,
   "id": "9fd443e6",
   "metadata": {},
   "outputs": [],
   "source": [
    "\n",
    "t_data[\"Survived\"].replace({\"0\": \"No\", \"1\": \"Yes\"}, inplace=True)"
   ]
  },
  {
   "cell_type": "code",
   "execution_count": 29,
   "id": "010cd8b6",
   "metadata": {},
   "outputs": [
    {
     "data": {
      "text/plain": [
       "<AxesSubplot:xlabel='Survived', ylabel='count'>"
      ]
     },
     "execution_count": 29,
     "metadata": {},
     "output_type": "execute_result"
    },
    {
     "data": {
      "image/png": "[encoded data removed]",
      "text/plain": [
       "<Figure size 432x288 with 1 Axes>"
      ]
     },
     "metadata": {},
     "output_type": "display_data"
    }
   ],
   "source": [
    "#Show value counts for a single categorical variable:\n",
    "sns.countplot(x='Survived', data = t_data)"
   ]
  },
  {
   "cell_type": "code",
   "execution_count": 23,
   "id": "745ef86b",
   "metadata": {},
   "outputs": [
    {
     "data": {
      "text/plain": [
       "<AxesSubplot:xlabel='Sex', ylabel='count'>"
      ]
     },
     "execution_count": 23,
     "metadata": {},
     "output_type": "execute_result"
    },
    {
     "data": {
      "image/png": "[encoded data removed]",
      "text/plain": [
       "<Figure size 432x288 with 1 Axes>"
      ]
     },
     "metadata": {},
     "output_type": "display_data"
    }
   ],
   "source": [
    "#Show value counts for a single categorical variable:\n",
    "sns.countplot(x='Sex', data = t_data)"
   ]
  },
  {
   "cell_type": "code",
   "execution_count": 24,
   "id": "75bc4925",
   "metadata": {},
   "outputs": [
    {
     "data": {
      "text/plain": [
       "<AxesSubplot:xlabel='Pclass', ylabel='count'>"
      ]
     },
     "execution_count": 24,
     "metadata": {},
     "output_type": "execute_result"
    },
    {
     "data": {
      "image/png": "[encoded data removed]",
      "text/plain": [
       "<Figure size 432x288 with 1 Axes>"
      ]
     },
     "metadata": {},
     "output_type": "display_data"
    }
   ],
   "source": [
    "#Show value counts for a single categorical variable:\n",
    "sns.countplot(x='Pclass', data = t_data)"
   ]
  },
  {
   "cell_type": "code",
   "execution_count": 25,
   "id": "4fc93717",
   "metadata": {},
   "outputs": [
    {
     "data": {
      "text/plain": [
       "<AxesSubplot:xlabel='Survived', ylabel='count'>"
      ]
     },
     "execution_count": 25,
     "metadata": {},
     "output_type": "execute_result"
    },
    {
     "data": {
      "image/png": "[encoded data removed]",
      "text/plain": [
       "<Figure size 432x288 with 1 Axes>"
      ]
     },
     "metadata": {},
     "output_type": "display_data"
    }
   ],
   "source": [
    "#Show value counts for two categorical variables:\n",
    "#sns.countplot(t_data['Survived'], hue = t_data['Sex'])\n",
    "sns.countplot(x='Survived', hue='Sex', data = t_data)"
   ]
  },
  {
   "cell_type": "markdown",
   "id": "1277a72a",
   "metadata": {},
   "source": [
    "#### Check for understanding\n",
    "\n",
    "Q. Write the code to plot the bars horizontally.\n",
    "\n",
    "Q. Change the color pallete to Set3\n",
    "\n",
    "Q. Write the code to plot two categorical varibales: pclass and Survived"
   ]
  },
  {
   "cell_type": "code",
   "execution_count": 26,
   "id": "2952c1d7",
   "metadata": {},
   "outputs": [
    {
     "data": {
      "image/png": "[encoded data removed]",
      "text/plain": [
       "<Figure size 879.25x576 with 2 Axes>"
      ]
     },
     "metadata": {},
     "output_type": "display_data"
    }
   ],
   "source": [
    "#Show the value counts for three categorical variables\n",
    "g = sns.catplot(x=\"Pclass\", hue=\"Sex\", col=\"Survived\",\n",
    "\n",
    "                data=t_data, kind=\"count\",\n",
    "\n",
    "                height=8, aspect=.7);"
   ]
  },
  {
   "cell_type": "code",
   "execution_count": 33,
   "id": "24efdf71",
   "metadata": {},
   "outputs": [
    {
     "data": {
      "text/plain": [
       "<AxesSubplot:xlabel='Age'>"
      ]
     },
     "execution_count": 33,
     "metadata": {},
     "output_type": "execute_result"
    },
    {
     "data": {
      "image/png": "[encoded data removed]",
      "text/plain": [
       "<Figure size 432x288 with 1 Axes>"
      ]
     },
     "metadata": {},
     "output_type": "display_data"
    }
   ],
   "source": [
    "#Draw a single horizontal boxplot:\n",
    "sns.boxplot(x=\"Age\", data = t_data)"
   ]
  },
  {
   "cell_type": "code",
   "execution_count": 58,
   "id": "fa87dbbc",
   "metadata": {},
   "outputs": [
    {
     "data": {
      "text/plain": [
       "<AxesSubplot:xlabel='Age', ylabel='Sex'>"
      ]
     },
     "execution_count": 58,
     "metadata": {},
     "output_type": "execute_result"
    },
    {
     "data": {
      "image/png": "[encoded data removed]",
      "text/plain": [
       "<Figure size 432x288 with 1 Axes>"
      ]
     },
     "metadata": {},
     "output_type": "display_data"
    }
   ],
   "source": [
    "sns.boxplot(x=\"Age\", y = \"Sex\", data = t_data)"
   ]
  },
  {
   "cell_type": "code",
   "execution_count": 60,
   "id": "fc6667f7",
   "metadata": {},
   "outputs": [
    {
     "data": {
      "text/plain": [
       "<AxesSubplot:xlabel='Pclass', ylabel='Age'>"
      ]
     },
     "execution_count": 60,
     "metadata": {},
     "output_type": "execute_result"
    },
    {
     "data": {
      "image/png": "[encoded data removed]",
      "text/plain": [
       "<Figure size 432x288 with 1 Axes>"
      ]
     },
     "metadata": {},
     "output_type": "display_data"
    }
   ],
   "source": [
    "sns.boxplot(x=\"Pclass\", y = \"Age\", hue = \"Sex\", data = t_data)"
   ]
  },
  {
   "cell_type": "code",
   "execution_count": 34,
   "id": "07a88894",
   "metadata": {},
   "outputs": [
    {
     "data": {
      "text/plain": [
       "<AxesSubplot:xlabel='Fare'>"
      ]
     },
     "execution_count": 34,
     "metadata": {},
     "output_type": "execute_result"
    },
    {
     "data": {
      "image/png": "[encoded data removed]",
      "text/plain": [
       "<Figure size 432x288 with 1 Axes>"
      ]
     },
     "metadata": {},
     "output_type": "display_data"
    }
   ],
   "source": [
    "#Draw a single horizontal boxplot:\n",
    "sns.boxplot(x=\"Fare\", data = t_data)"
   ]
  },
  {
   "cell_type": "code",
   "execution_count": 35,
   "id": "018b17b5",
   "metadata": {},
   "outputs": [
    {
     "data": {
      "text/plain": [
       "<AxesSubplot:xlabel='Pclass', ylabel='Fare'>"
      ]
     },
     "execution_count": 35,
     "metadata": {},
     "output_type": "execute_result"
    },
    {
     "data": {
      "image/png": "[encoded data removed]",
      "text/plain": [
       "<Figure size 432x288 with 1 Axes>"
      ]
     },
     "metadata": {},
     "output_type": "display_data"
    }
   ],
   "source": [
    "#Draw a vertical boxplot grouped by a categorical variable:\n",
    "sns.boxplot(x = \"Pclass\", y=\"Fare\", data = t_data)"
   ]
  },
  {
   "cell_type": "code",
   "execution_count": 36,
   "id": "3b6ad546",
   "metadata": {},
   "outputs": [
    {
     "data": {
      "text/plain": [
       "<AxesSubplot:xlabel='Sex', ylabel='Fare'>"
      ]
     },
     "execution_count": 36,
     "metadata": {},
     "output_type": "execute_result"
    },
    {
     "data": {
      "image/png": "[encoded data removed]",
      "text/plain": [
       "<Figure size 432x288 with 1 Axes>"
      ]
     },
     "metadata": {},
     "output_type": "display_data"
    }
   ],
   "source": [
    "#Draw a vertical boxplot grouped by a categorical variable:\n",
    "sns.boxplot(x = \"Sex\", y=\"Fare\", data = t_data)"
   ]
  },
  {
   "cell_type": "code",
   "execution_count": 37,
   "id": "4ea2826b",
   "metadata": {},
   "outputs": [
    {
     "data": {
      "text/plain": [
       "<AxesSubplot:xlabel='Survived', ylabel='Fare'>"
      ]
     },
     "execution_count": 37,
     "metadata": {},
     "output_type": "execute_result"
    },
    {
     "data": {
      "image/png": "[encoded data removed]",
      "text/plain": [
       "<Figure size 432x288 with 1 Axes>"
      ]
     },
     "metadata": {},
     "output_type": "display_data"
    }
   ],
   "source": [
    "#Draw a vertical boxplot grouped by a categorical variable:\n",
    "sns.boxplot(x = \"Survived\", y=\"Fare\", data = t_data)"
   ]
  },
  {
   "cell_type": "code",
   "execution_count": 38,
   "id": "02a3053a",
   "metadata": {},
   "outputs": [
    {
     "data": {
      "text/plain": [
       "<AxesSubplot:xlabel='Survived', ylabel='Fare'>"
      ]
     },
     "execution_count": 38,
     "metadata": {},
     "output_type": "execute_result"
    },
    {
     "data": {
      "image/png": "[encoded data removed]",
      "text/plain": [
       "<Figure size 432x288 with 1 Axes>"
      ]
     },
     "metadata": {},
     "output_type": "display_data"
    }
   ],
   "source": [
    "# Draw a boxplot with nested grouping by two categorical variables:\n",
    "sns.boxplot(x = \"Survived\", y=\"Fare\", hue = \"Sex\", data = t_data)"
   ]
  },
  {
   "cell_type": "code",
   "execution_count": 41,
   "id": "4e94cdb4",
   "metadata": {},
   "outputs": [],
   "source": [
    "#Draw a boxplot for each numeric variable in a DataFrame:\n",
    "#sns.boxplot(data = t_data)"
   ]
  },
  {
   "cell_type": "code",
   "execution_count": 61,
   "id": "48c5888c",
   "metadata": {},
   "outputs": [
    {
     "data": {
      "text/plain": [
       "<AxesSubplot:xlabel='Pclass', ylabel='Fare'>"
      ]
     },
     "execution_count": 61,
     "metadata": {},
     "output_type": "execute_result"
    },
    {
     "data": {
      "image/png": "[encoded data removed]",
      "text/plain": [
       "<Figure size 432x288 with 1 Axes>"
      ]
     },
     "metadata": {},
     "output_type": "display_data"
    }
   ],
   "source": [
    "#show the datapoints on top of the boxes:\n",
    "sns.boxplot(x = \"Survived\", y=\"Fare\", data = t_data)\n",
    "sns.stripplot(x = \"Pclass\", y=\"Fare\", data = t_data, color=\".25\")"
   ]
  },
  {
   "cell_type": "code",
   "execution_count": 46,
   "id": "f6a12fd9",
   "metadata": {},
   "outputs": [
    {
     "data": {
      "text/plain": [
       "<seaborn.axisgrid.FacetGrid at 0x7faddc179470>"
      ]
     },
     "execution_count": 46,
     "metadata": {},
     "output_type": "execute_result"
    },
    {
     "data": {
      "image/png": "[encoded data removed]",
      "text/plain": [
       "<Figure size 1152.85x360 with 3 Axes>"
      ]
     },
     "metadata": {},
     "output_type": "display_data"
    }
   ],
   "source": [
    "sns.catplot(x = \"Survived\", y=\"Fare\", hue = \"Sex\", col = \"Pclass\", data = t_data, kind = \"box\")"
   ]
  },
  {
   "cell_type": "code",
   "execution_count": 57,
   "id": "354bdea6",
   "metadata": {},
   "outputs": [
    {
     "data": {
      "text/plain": [
       "<AxesSubplot:xlabel='Age', ylabel='Count'>"
      ]
     },
     "execution_count": 57,
     "metadata": {},
     "output_type": "execute_result"
    },
    {
     "data": {
      "image/png": "[encoded data removed]",
      "text/plain": [
       "<Figure size 432x288 with 1 Axes>"
      ]
     },
     "metadata": {},
     "output_type": "display_data"
    }
   ],
   "source": [
    "sns.histplot(t_data[\"Age\"])"
   ]
  },
  {
   "cell_type": "code",
   "execution_count": 53,
   "id": "e0d826ff",
   "metadata": {},
   "outputs": [
    {
     "data": {
      "text/plain": [
       "<seaborn.axisgrid.FacetGrid at 0x7faddd3dae10>"
      ]
     },
     "execution_count": 53,
     "metadata": {},
     "output_type": "execute_result"
    },
    {
     "data": {
      "image/png": "[encoded data removed]",
      "text/plain": [
       "<Figure size 360x360 with 1 Axes>"
      ]
     },
     "metadata": {},
     "output_type": "display_data"
    }
   ],
   "source": [
    "sns.displot(t_data[\"Fare\"], kde = False)"
   ]
  },
  {
   "cell_type": "code",
   "execution_count": null,
   "id": "10a6610f",
   "metadata": {},
   "outputs": [],
   "source": []
  }
 ],
 "metadata": {
  "kernelspec": {
   "display_name": "Python 3 (ipykernel)",
   "language": "python",
   "name": "python3"
  },
  "language_info": {
   "codemirror_mode": {
    "name": "ipython",
    "version": 3
   },
   "file_extension": ".py",
   "mimetype": "text/x-python",
   "name": "python",
   "nbconvert_exporter": "python",
   "pygments_lexer": "ipython3",
   "version": "3.7.2"
  }
 },
 "nbformat": 4,
 "nbformat_minor": 5
}
